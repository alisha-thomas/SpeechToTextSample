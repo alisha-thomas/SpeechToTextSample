{
 "cells": [
  {
   "cell_type": "code",
   "execution_count": 2,
   "metadata": {},
   "outputs": [],
   "source": [
    "import torch\n",
    "import torchaudio\n",
    "from torch import nn, optim\n",
    "from torch.utils.data import Dataset, DataLoader\n",
    "from torchaudio.transforms import MelSpectrogram, Resample, TimeMasking, FrequencyMasking, MFCC\n",
    "from jiwer import wer\n",
    "import numpy as np"
   ]
  },
  {
   "cell_type": "code",
   "execution_count": 3,
   "metadata": {},
   "outputs": [],
   "source": [
    "def load_lists_from_files(audio_file_path='audio_files.txt', transcript_file_path='transcriptions.txt'):\n",
    "    with open(audio_file_path, 'r') as af:\n",
    "        audio_files = [line.strip() for line in af]\n",
    "\n",
    "    with open(transcript_file_path, 'r') as tf:\n",
    "        transcriptions = [line.strip() for line in tf]\n",
    "\n",
    "    return audio_files, transcriptions\n",
    "\n",
    "# Load the lists back from text files\n",
    "audio_files, transcriptions = load_lists_from_files()"
   ]
  },
  {
   "cell_type": "code",
   "execution_count": 31,
   "metadata": {},
   "outputs": [
    {
     "name": "stdout",
     "output_type": "stream",
     "text": [
      "Vocabulary: {' ': 0, \"'\": 1, 'A': 2, 'B': 3, 'C': 4, 'D': 5, 'E': 6, 'F': 7, 'G': 8, 'H': 9, 'I': 10, 'J': 11, 'K': 12, 'L': 13, 'M': 14, 'N': 15, 'O': 16, 'P': 17, 'Q': 18, 'R': 19, 'S': 20, 'T': 21, 'U': 22, 'V': 23, 'W': 24, 'X': 25, 'Y': 26, 'Z': 27, '<blank>': 28}\n",
      "Index to Character Mapping: {0: ' ', 1: \"'\", 2: 'A', 3: 'B', 4: 'C', 5: 'D', 6: 'E', 7: 'F', 8: 'G', 9: 'H', 10: 'I', 11: 'J', 12: 'K', 13: 'L', 14: 'M', 15: 'N', 16: 'O', 17: 'P', 18: 'Q', 19: 'R', 20: 'S', 21: 'T', 22: 'U', 23: 'V', 24: 'W', 25: 'X', 26: 'Y', 27: 'Z', 28: '<blank>'}\n"
     ]
    }
   ],
   "source": [
    "# Create a character-level vocabulary\n",
    "vocab = set(''.join(transcriptions))\n",
    "vocab = {char: idx for idx, char in enumerate(sorted(vocab))}\n",
    "vocab['<blank>'] = len(vocab)\n",
    "blank_token = vocab['<blank>']\n",
    "idx_to_char = {idx: char for char, idx in vocab.items()}\n",
    "print(\"Vocabulary:\", vocab)\n",
    "print(\"Index to Character Mapping:\", idx_to_char)\n",
    "\n",
    "# Function to convert transcription to numerical labels\n",
    "def text_to_labels(text):\n",
    "    return [vocab[char] for char in text]\n",
    "\n",
    "# Function to convert labels to text\n",
    "def labels_to_text(labels):\n",
    "    return ''.join([idx_to_char[idx] for idx in labels if idx in idx_to_char])"
   ]
  },
  {
   "cell_type": "code",
   "execution_count": 5,
   "metadata": {},
   "outputs": [],
   "source": [
    "# SpeechDataset class definition with spectrogram augmentation and MFCC\n",
    "class SpeechDataset(Dataset):\n",
    "    def __init__(self, audio_files, transcriptions, sample_rate=16000):\n",
    "        self.audio_files = audio_files\n",
    "        self.transcriptions = transcriptions\n",
    "        self.sample_rate = sample_rate\n",
    "        self.resample = Resample(orig_freq=sample_rate, new_freq=16000)\n",
    "        self.melspec = MelSpectrogram(sample_rate=16000, n_mels=128)\n",
    "        self.mfcc = MFCC(sample_rate=16000, n_mfcc=40)\n",
    "        self.time_masking = TimeMasking(time_mask_param=30)\n",
    "        self.freq_masking = FrequencyMasking(freq_mask_param=15)\n",
    "    \n",
    "    def __len__(self):\n",
    "        return len(self.audio_files)\n",
    "    \n",
    "    def __getitem__(self, idx):\n",
    "        try:\n",
    "            waveform, sample_rate = torchaudio.load(self.audio_files[idx])\n",
    "        except Exception as e:\n",
    "            print(f\"Error loading file {self.audio_files[idx]}: {e}\")\n",
    "            return None, None  # Return None for both to handle it later\n",
    "        \n",
    "        waveform = self.resample(waveform)\n",
    "        mel_spec = self.melspec(waveform)\n",
    "        mel_spec = self.time_masking(mel_spec)\n",
    "        mel_spec = self.freq_masking(mel_spec)\n",
    "        mfcc = self.mfcc(waveform)\n",
    "\n",
    "         # Ensure mel_spec and mfcc have the same size along the concatenation dimension\n",
    "        if mel_spec.size(2) > mfcc.size(2):\n",
    "            mel_spec = mel_spec[:, :, :mfcc.size(2)]\n",
    "        elif mfcc.size(2) > mel_spec.size(2):\n",
    "            mfcc = mfcc[:, :, :mel_spec.size(2)]\n",
    "        \n",
    "        features = torch.cat((mel_spec, mfcc), dim=1)\n",
    "        transcription = self.transcriptions[idx]\n",
    "        return features.squeeze(0).transpose(0, 1), transcription  # Transpose to [seq_len, feature_dim]"
   ]
  },
  {
   "cell_type": "code",
   "execution_count": 6,
   "metadata": {},
   "outputs": [],
   "source": [
    "# Function to pad sequences\n",
    "def pad_sequence(batch):\n",
    "    batch = [item for item in batch]  # Ensure [seq_len, feature_dim]\n",
    "    batch = torch.nn.utils.rnn.pad_sequence(batch, batch_first=True)\n",
    "    return batch"
   ]
  },
  {
   "cell_type": "code",
   "execution_count": 7,
   "metadata": {},
   "outputs": [],
   "source": [
    "# Update the collate function to handle None entries\n",
    "def collate_fn(batch):\n",
    "    batch = [item for item in batch if item[0] is not None]  # Filter out None entries\n",
    "    if len(batch) == 0:  # Handle the case where all items are None\n",
    "        return None, None, None, None\n",
    "    mel_specs = [item[0] for item in batch]\n",
    "    transcriptions = [item[1] for item in batch]\n",
    "    mel_specs_padded = pad_sequence(mel_specs)\n",
    "    labels = [torch.tensor(text_to_labels(t)) for t in transcriptions]\n",
    "    label_lengths = torch.tensor([len(label) for label in labels])\n",
    "    labels_padded = torch.nn.utils.rnn.pad_sequence(labels, batch_first=True)\n",
    "    input_lengths = torch.tensor([mel_spec.size(0) for mel_spec in mel_specs_padded])\n",
    "    return mel_specs_padded, labels_padded, input_lengths, label_lengths"
   ]
  },
  {
   "cell_type": "code",
   "execution_count": 8,
   "metadata": {},
   "outputs": [
    {
     "name": "stderr",
     "output_type": "stream",
     "text": [
      "d:\\Work\\Projects\\Alisha\\Alisha_hand_gesture\\speechtotext\\.venv\\lib\\site-packages\\torchaudio\\functional\\functional.py:584: UserWarning: At least one mel filterbank has all zero values. The value for `n_mels` (128) may be set too high. Or, the value for `n_freqs` (201) may be set too low.\n",
      "  warnings.warn(\n"
     ]
    }
   ],
   "source": [
    "# Create dataset and dataloader with the expanded dataset\n",
    "dataset = SpeechDataset(audio_files, transcriptions)\n",
    "dataloader = DataLoader(dataset, batch_size=2, shuffle=True, collate_fn=collate_fn)"
   ]
  },
  {
   "cell_type": "code",
   "execution_count": 9,
   "metadata": {},
   "outputs": [],
   "source": [
    "# Define a simple model architecture\n",
    "class EnhancedSpeechModel(nn.Module):\n",
    "    def __init__(self, input_dim, hidden_dim, output_dim):\n",
    "        super(EnhancedSpeechModel, self).__init__()\n",
    "        self.conv1 = nn.Conv1d(input_dim, 64, kernel_size=3, stride=1, padding=1)\n",
    "        self.relu = nn.ReLU()\n",
    "        self.lstm = nn.LSTM(64, hidden_dim, batch_first=True, bidirectional=True)\n",
    "        self.fc = nn.Linear(hidden_dim * 2, output_dim)  # Bidirectional LSTM\n",
    "\n",
    "    def forward(self, x):\n",
    "        x = x.transpose(1, 2)  # Change to [batch_size, feature_dim, seq_len] for Conv1d\n",
    "        x = self.conv1(x)\n",
    "        x = self.relu(x)\n",
    "        x = x.transpose(1, 2)  # Change back to [batch_size, seq_len, feature_dim] for LSTM\n",
    "        x, _ = self.lstm(x)\n",
    "        x = self.fc(x)\n",
    "        return x"
   ]
  },
  {
   "cell_type": "code",
   "execution_count": 10,
   "metadata": {},
   "outputs": [],
   "source": [
    "# Initialize model\n",
    "input_dim = 128 + 40  # Number of mel bands + number of MFCCs\n",
    "hidden_dim = 256\n",
    "output_dim = len(vocab) + 1  # Output dimension based on the size of the vocabulary + 1 for the blank token\n",
    "model = EnhancedSpeechModel(input_dim, hidden_dim, output_dim)"
   ]
  },
  {
   "cell_type": "code",
   "execution_count": 11,
   "metadata": {},
   "outputs": [],
   "source": [
    "# Training with Early Stopping and Learning Rate Scheduler\n",
    "def train_model(model, dataloader, num_epochs=50, learning_rate=0.001, patience=10):\n",
    "    criterion = nn.CTCLoss(blank=output_dim - 1, zero_infinity=True)\n",
    "    optimizer = optim.Adam(model.parameters(), lr=learning_rate)\n",
    "    scheduler = optim.lr_scheduler.ReduceLROnPlateau(optimizer, 'min', patience=patience, factor=0.5, verbose=True)\n",
    "    best_loss = float('inf')\n",
    "    patience_counter = 0\n",
    "    \n",
    "    for epoch in range(num_epochs):\n",
    "        model.train()\n",
    "        epoch_loss = 0\n",
    "        for batch in dataloader:\n",
    "            if batch[0] is None:  # Skip if batch is None\n",
    "                continue\n",
    "            \n",
    "            mel_specs, labels, input_lengths, label_lengths = batch\n",
    "            \n",
    "            if mel_specs.dim() != 3:\n",
    "                print(f\"Unexpected dimensions: {mel_specs.shape}\")\n",
    "                continue  # Skip this batch if dimensions are not as expected\n",
    "            \n",
    "            outputs = model(mel_specs)\n",
    "            outputs = outputs.log_softmax(2)\n",
    "            outputs = outputs.permute(1, 0, 2)  # (T, N, C) for CTCLoss\n",
    "\n",
    "            loss = criterion(outputs, labels, input_lengths, label_lengths)\n",
    "            \n",
    "            optimizer.zero_grad()\n",
    "            loss.backward()\n",
    "            optimizer.step()\n",
    "            \n",
    "            epoch_loss += loss.item()\n",
    "        \n",
    "        epoch_loss /= len(dataloader)\n",
    "        scheduler.step(epoch_loss)\n",
    "        \n",
    "        print(f\"Epoch [{epoch+1}/{num_epochs}], Loss: {epoch_loss:.4f}\")\n",
    "        \n",
    "        # Early stopping\n",
    "        if epoch_loss < best_loss:\n",
    "            best_loss = epoch_loss\n",
    "            patience_counter = 0\n",
    "        else:\n",
    "            patience_counter += 1\n",
    "        \n",
    "        if patience_counter >= patience:\n",
    "            print(f\"Early stopping at epoch {epoch+1}\")\n",
    "            break"
   ]
  },
  {
   "cell_type": "code",
   "execution_count": 12,
   "metadata": {},
   "outputs": [
    {
     "name": "stderr",
     "output_type": "stream",
     "text": [
      "d:\\Work\\Projects\\Alisha\\Alisha_hand_gesture\\speechtotext\\.venv\\lib\\site-packages\\torch\\optim\\lr_scheduler.py:28: UserWarning: The verbose parameter is deprecated. Please use get_last_lr() to access the learning rate.\n",
      "  warnings.warn(\"The verbose parameter is deprecated. Please use get_last_lr() \"\n"
     ]
    },
    {
     "name": "stdout",
     "output_type": "stream",
     "text": [
      "Epoch [1/50], Loss: 2.4562\n",
      "Epoch [2/50], Loss: 1.3594\n",
      "Epoch [3/50], Loss: 1.2595\n",
      "Epoch [4/50], Loss: 1.2204\n",
      "Epoch [5/50], Loss: 1.2139\n",
      "Epoch [6/50], Loss: 1.1954\n",
      "Epoch [7/50], Loss: 1.2034\n",
      "Epoch [8/50], Loss: 1.2099\n",
      "Epoch [9/50], Loss: 1.6206\n",
      "Epoch [10/50], Loss: 1.7128\n",
      "Epoch [11/50], Loss: 1.4160\n",
      "Epoch [12/50], Loss: 1.3478\n",
      "Epoch [13/50], Loss: 1.3159\n",
      "Epoch [14/50], Loss: 1.4160\n",
      "Epoch [15/50], Loss: 1.7303\n",
      "Epoch [16/50], Loss: 1.9384\n",
      "Early stopping at epoch 16\n"
     ]
    }
   ],
   "source": [
    "# Train the model with the expanded dataset\n",
    "train_model(model, dataloader)"
   ]
  },
  {
   "cell_type": "code",
   "execution_count": 13,
   "metadata": {},
   "outputs": [],
   "source": [
    "# Save the trained model\n",
    "torch.save(model, 'speechtotextmodel4_with_large_data.pth')"
   ]
  },
  {
   "cell_type": "code",
   "execution_count": 35,
   "metadata": {},
   "outputs": [],
   "source": [
    "# Function to decode model outputs into text, handling the blank token\n",
    "def decode_predictions(predictions, vocab):\n",
    "    idx_to_char = {idx: char for char, idx in vocab.items()}\n",
    "    blank_token = vocab['<blank>']\n",
    "    print(\"Blank token index:\", blank_token)\n",
    "    decoded_output = []\n",
    "    for prediction in predictions:\n",
    "        pred_indices = torch.argmax(prediction, dim=-1)\n",
    "        print(\"Prediction indices before clamping:\", pred_indices)\n",
    "        pred_indices = torch.clamp(pred_indices, 0, len(vocab) - 1)  # Clamp indices to valid range\n",
    "        print(\"Prediction indices after clamping:\", pred_indices)\n",
    "        pred_text = ''.join([idx_to_char[idx.item()] for idx in pred_indices if idx.item() != blank_token])\n",
    "        decoded_output.append(pred_text)\n",
    "    return decoded_output"
   ]
  },
  {
   "cell_type": "code",
   "execution_count": 17,
   "metadata": {},
   "outputs": [],
   "source": [
    "# Function to decode the model output into text\n",
    "def decode_output(output):\n",
    "    _, max_indices = torch.max(output, dim=-1)\n",
    "    tokens = max_indices.unique_consecutive()\n",
    "    decoded = ''.join([idx_to_char[idx.item()] for idx in tokens if idx.item() in idx_to_char])\n",
    "    return decoded"
   ]
  },
  {
   "cell_type": "code",
   "execution_count": 18,
   "metadata": {},
   "outputs": [],
   "source": [
    "# Calculate accuracy using Word Error Rate (WER)\n",
    "def calculate_accuracy(model, dataloader):\n",
    "    model.eval()\n",
    "    predictions = []\n",
    "    ground_truths = []\n",
    "    \n",
    "    with torch.no_grad():\n",
    "        for batch in dataloader:\n",
    "            if batch[0] is None:  # Skip if batch is None\n",
    "                continue\n",
    "            \n",
    "            mel_specs, labels, input_lengths, label_lengths = batch\n",
    "            \n",
    "            outputs = model(mel_specs)\n",
    "            outputs = outputs.log_softmax(2)\n",
    "            outputs = outputs.permute(1, 0, 2)  # (T, N, C) for CTCLoss\n",
    "            \n",
    "            for i in range(outputs.size(1)):  # Iterate over batch\n",
    "                decoded_output = decode_output(outputs[:, i, :])\n",
    "                predictions.append(decoded_output)\n",
    "                ground_truths.append(''.join([idx_to_char[idx.item()] for idx in labels[i] if idx.item() in idx_to_char]))\n",
    "    \n",
    "    wer_score = wer(ground_truths, predictions)\n",
    "    accuracy = 1 - wer_score\n",
    "    return accuracy\n"
   ]
  },
  {
   "cell_type": "code",
   "execution_count": 19,
   "metadata": {},
   "outputs": [
    {
     "name": "stdout",
     "output_type": "stream",
     "text": [
      "Model Accuracy: 0.0267\n"
     ]
    }
   ],
   "source": [
    "# Calculate accuracy\n",
    "accuracy = calculate_accuracy(model, dataloader)\n",
    "print(f\"Model Accuracy: {accuracy:.4f}\")"
   ]
  },
  {
   "cell_type": "code",
   "execution_count": 23,
   "metadata": {},
   "outputs": [],
   "source": [
    "# Function to preprocess a single audio file\n",
    "def preprocess_audio(audio_file, sample_rate=16000):\n",
    "    resample = Resample(orig_freq=sample_rate, new_freq=16000)\n",
    "    melspec = MelSpectrogram(sample_rate=16000, n_mels=128)\n",
    "    mfcc = MFCC(sample_rate=16000, n_mfcc=40)\n",
    "    time_masking = TimeMasking(time_mask_param=30)\n",
    "    freq_masking = FrequencyMasking(freq_mask_param=15)\n",
    "    \n",
    "    try:\n",
    "        waveform, sample_rate = torchaudio.load(audio_file)\n",
    "    except Exception as e:\n",
    "        print(f\"Error loading file {audio_file}: {e}\")\n",
    "        return None\n",
    "    \n",
    "    waveform = resample(waveform)\n",
    "    mel_spec = melspec(waveform)\n",
    "    mel_spec = time_masking(mel_spec)\n",
    "    mel_spec = freq_masking(mel_spec)\n",
    "    mfcc_feat = mfcc(waveform)\n",
    "\n",
    "    # Ensure mel_spec and mfcc have the same size along the concatenation dimension\n",
    "    if mel_spec.size(2) > mfcc_feat.size(2):\n",
    "        mel_spec = mel_spec[:, :, :mfcc_feat.size(2)]\n",
    "    elif mfcc_feat.size(2) > mel_spec.size(2):\n",
    "        mfcc_feat = mfcc_feat[:, :, :mel_spec.size(2)]\n",
    "\n",
    "    features = torch.cat((mel_spec, mfcc_feat), dim=1)\n",
    "    return features.squeeze(0).transpose(0, 1)  # Transpose to [seq_len, feature_dim]"
   ]
  },
  {
   "cell_type": "code",
   "execution_count": 36,
   "metadata": {},
   "outputs": [],
   "source": [
    "# Function to transcribe a single audio file using the trained model\n",
    "def transcribe_audio(model, audio_file, vocab):\n",
    "    model.eval()\n",
    "    with torch.no_grad():\n",
    "        features = preprocess_audio(audio_file)\n",
    "        if features is None:\n",
    "            return None\n",
    "        features = features.unsqueeze(0)  # Add batch dimension\n",
    "        outputs = model(features)\n",
    "        decoded_output = decode_predictions(outputs, vocab)\n",
    "        return decoded_output[0]"
   ]
  },
  {
   "cell_type": "code",
   "execution_count": 37,
   "metadata": {},
   "outputs": [
    {
     "name": "stdout",
     "output_type": "stream",
     "text": [
      "Blank token index: 28\n",
      "Prediction indices before clamping: tensor([29, 29, 29,  ..., 29, 29, 29])\n",
      "Prediction indices after clamping: tensor([28, 28, 28,  ..., 28, 28, 28])\n",
      "Transcription: A TEF IGO O PSTAE GS  TN MD TTSS TON T  TETESS M  MEGETERRT   TO ONNGTSY  GO   B WIS  OS E S FSI\n"
     ]
    }
   ],
   "source": [
    "# Example usage\n",
    "audio_file = \"31-121972-0000.wav\"  # Replace with the path to your audio file\n",
    "transcription = transcribe_audio(model, audio_file, vocab)\n",
    "print(f\"Transcription: {transcription}\")"
   ]
  }
 ],
 "metadata": {
  "kernelspec": {
   "display_name": ".venv",
   "language": "python",
   "name": "python3"
  },
  "language_info": {
   "codemirror_mode": {
    "name": "ipython",
    "version": 3
   },
   "file_extension": ".py",
   "mimetype": "text/x-python",
   "name": "python",
   "nbconvert_exporter": "python",
   "pygments_lexer": "ipython3",
   "version": "3.10.1"
  }
 },
 "nbformat": 4,
 "nbformat_minor": 2
}
