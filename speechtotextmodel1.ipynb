{
 "cells": [
  {
   "cell_type": "code",
   "execution_count": 1,
   "metadata": {},
   "outputs": [],
   "source": [
    "import torch\n",
    "import torchaudio\n",
    "from torch import nn, optim\n",
    "from torch.utils.data import Dataset, DataLoader\n",
    "from torchaudio.transforms import MelSpectrogram, Resample\n",
    "from jiwer import wer"
   ]
  },
  {
   "cell_type": "code",
   "execution_count": 2,
   "metadata": {},
   "outputs": [],
   "source": [
    "# Paths to the uploaded audio files and their corresponding transcriptions\n",
    "audio_files = ['d:\\\\Work\\\\Projects\\\\Alisha\\\\Alisha_hand_gesture\\\\speechtotext\\\\cleaned_audios_zip\\\\20\\\\205\\\\20-205-0000.wav', 'd:\\\\Work\\\\Projects\\\\Alisha\\\\Alisha_hand_gesture\\\\speechtotext\\\\cleaned_audios_zip\\\\20\\\\205\\\\20-205-0001.wav', 'd:\\\\Work\\\\Projects\\\\Alisha\\\\Alisha_hand_gesture\\\\speechtotext\\\\cleaned_audios_zip\\\\20\\\\205\\\\20-205-0002.wav', 'd:\\\\Work\\\\Projects\\\\Alisha\\\\Alisha_hand_gesture\\\\speechtotext\\\\cleaned_audios_zip\\\\20\\\\205\\\\20-205-0003.wav', 'd:\\\\Work\\\\Projects\\\\Alisha\\\\Alisha_hand_gesture\\\\speechtotext\\\\cleaned_audios_zip\\\\20\\\\205\\\\20-205-0004.wav', 'd:\\\\Work\\\\Projects\\\\Alisha\\\\Alisha_hand_gesture\\\\speechtotext\\\\cleaned_audios_zip\\\\20\\\\205\\\\20-205-0005.wav', 'd:\\\\Work\\\\Projects\\\\Alisha\\\\Alisha_hand_gesture\\\\speechtotext\\\\cleaned_audios_zip\\\\20\\\\205\\\\20-205-0006.wav', 'd:\\\\Work\\\\Projects\\\\Alisha\\\\Alisha_hand_gesture\\\\speechtotext\\\\cleaned_audios_zip\\\\20\\\\205\\\\20-205-0007.wav', 'd:\\\\Work\\\\Projects\\\\Alisha\\\\Alisha_hand_gesture\\\\speechtotext\\\\cleaned_audios_zip\\\\20\\\\205\\\\20-205-0008.wav', 'd:\\\\Work\\\\Projects\\\\Alisha\\\\Alisha_hand_gesture\\\\speechtotext\\\\cleaned_audios_zip\\\\20\\\\205\\\\20-205-0009.wav', 'd:\\\\Work\\\\Projects\\\\Alisha\\\\Alisha_hand_gesture\\\\speechtotext\\\\cleaned_audios_zip\\\\20\\\\205\\\\20-205-0010.wav', 'd:\\\\Work\\\\Projects\\\\Alisha\\\\Alisha_hand_gesture\\\\speechtotext\\\\cleaned_audios_zip\\\\20\\\\205\\\\20-205-0011.wav', 'd:\\\\Work\\\\Projects\\\\Alisha\\\\Alisha_hand_gesture\\\\speechtotext\\\\cleaned_audios_zip\\\\20\\\\205\\\\20-205-0012.wav', 'd:\\\\Work\\\\Projects\\\\Alisha\\\\Alisha_hand_gesture\\\\speechtotext\\\\cleaned_audios_zip\\\\20\\\\205\\\\20-205-0013.wav', 'd:\\\\Work\\\\Projects\\\\Alisha\\\\Alisha_hand_gesture\\\\speechtotext\\\\cleaned_audios_zip\\\\20\\\\205\\\\20-205-0014.wav', 'd:\\\\Work\\\\Projects\\\\Alisha\\\\Alisha_hand_gesture\\\\speechtotext\\\\cleaned_audios_zip\\\\20\\\\205\\\\20-205-0015.wav', 'd:\\\\Work\\\\Projects\\\\Alisha\\\\Alisha_hand_gesture\\\\speechtotext\\\\cleaned_audios_zip\\\\20\\\\205\\\\20-205-0016.wav', 'd:\\\\Work\\\\Projects\\\\Alisha\\\\Alisha_hand_gesture\\\\speechtotext\\\\cleaned_audios_zip\\\\20\\\\205\\\\20-205-0017.wav', 'd:\\\\Work\\\\Projects\\\\Alisha\\\\Alisha_hand_gesture\\\\speechtotext\\\\cleaned_audios_zip\\\\20\\\\205\\\\20-205-0018.wav', 'd:\\\\Work\\\\Projects\\\\Alisha\\\\Alisha_hand_gesture\\\\speechtotext\\\\cleaned_audios_zip\\\\20\\\\205\\\\20-205-0019.wav', 'd:\\\\Work\\\\Projects\\\\Alisha\\\\Alisha_hand_gesture\\\\speechtotext\\\\cleaned_audios_zip\\\\20\\\\205\\\\20-205-0020.wav', 'd:\\\\Work\\\\Projects\\\\Alisha\\\\Alisha_hand_gesture\\\\speechtotext\\\\cleaned_audios_zip\\\\20\\\\205\\\\20-205-0021.wav', 'd:\\\\Work\\\\Projects\\\\Alisha\\\\Alisha_hand_gesture\\\\speechtotext\\\\cleaned_audios_zip\\\\20\\\\205\\\\20-205-0022.wav', 'd:\\\\Work\\\\Projects\\\\Alisha\\\\Alisha_hand_gesture\\\\speechtotext\\\\cleaned_audios_zip\\\\20\\\\205\\\\20-205-0023.wav', 'd:\\\\Work\\\\Projects\\\\Alisha\\\\Alisha_hand_gesture\\\\speechtotext\\\\cleaned_audios_zip\\\\20\\\\205\\\\20-205-0024.wav', 'd:\\\\Work\\\\Projects\\\\Alisha\\\\Alisha_hand_gesture\\\\speechtotext\\\\cleaned_audios_zip\\\\20\\\\205\\\\20-205-0025.wav', 'd:\\\\Work\\\\Projects\\\\Alisha\\\\Alisha_hand_gesture\\\\speechtotext\\\\cleaned_audios_zip\\\\20\\\\205\\\\20-205-0026.wav', 'd:\\\\Work\\\\Projects\\\\Alisha\\\\Alisha_hand_gesture\\\\speechtotext\\\\cleaned_audios_zip\\\\20\\\\205\\\\20-205-0027.wav', 'd:\\\\Work\\\\Projects\\\\Alisha\\\\Alisha_hand_gesture\\\\speechtotext\\\\cleaned_audios_zip\\\\20\\\\205\\\\20-205-0028.wav', 'd:\\\\Work\\\\Projects\\\\Alisha\\\\Alisha_hand_gesture\\\\speechtotext\\\\cleaned_audios_zip\\\\20\\\\205\\\\20-205-0029.wav', 'd:\\\\Work\\\\Projects\\\\Alisha\\\\Alisha_hand_gesture\\\\speechtotext\\\\cleaned_audios_zip\\\\20\\\\205\\\\20-205-0030.wav', 'd:\\\\Work\\\\Projects\\\\Alisha\\\\Alisha_hand_gesture\\\\speechtotext\\\\cleaned_audios_zip\\\\20\\\\205\\\\20-205-0031.wav', 'd:\\\\Work\\\\Projects\\\\Alisha\\\\Alisha_hand_gesture\\\\speechtotext\\\\cleaned_audios_zip\\\\20\\\\205\\\\20-205-0032.wav', 'd:\\\\Work\\\\Projects\\\\Alisha\\\\Alisha_hand_gesture\\\\speechtotext\\\\cleaned_audios_zip\\\\20\\\\205\\\\20-205-0033.wav', 'd:\\\\Work\\\\Projects\\\\Alisha\\\\Alisha_hand_gesture\\\\speechtotext\\\\cleaned_audios_zip\\\\20\\\\205\\\\20-205-0034.wav', 'd:\\\\Work\\\\Projects\\\\Alisha\\\\Alisha_hand_gesture\\\\speechtotext\\\\cleaned_audios_zip\\\\20\\\\205\\\\20-205-0035.wav', 'd:\\\\Work\\\\Projects\\\\Alisha\\\\Alisha_hand_gesture\\\\speechtotext\\\\cleaned_audios_zip\\\\20\\\\205\\\\20-205-0036.wav', 'd:\\\\Work\\\\Projects\\\\Alisha\\\\Alisha_hand_gesture\\\\speechtotext\\\\cleaned_audios_zip\\\\20\\\\205\\\\20-205-0037.wav', 'd:\\\\Work\\\\Projects\\\\Alisha\\\\Alisha_hand_gesture\\\\speechtotext\\\\cleaned_audios_zip\\\\20\\\\205\\\\20-205-0038.wav', 'd:\\\\Work\\\\Projects\\\\Alisha\\\\Alisha_hand_gesture\\\\speechtotext\\\\cleaned_audios_zip\\\\20\\\\205\\\\20-205-0039.wav', 'd:\\\\Work\\\\Projects\\\\Alisha\\\\Alisha_hand_gesture\\\\speechtotext\\\\cleaned_audios_zip\\\\20\\\\205\\\\20-205-0040.wav', 'd:\\\\Work\\\\Projects\\\\Alisha\\\\Alisha_hand_gesture\\\\speechtotext\\\\cleaned_audios_zip\\\\20\\\\205\\\\20-205-0041.wav', 'd:\\\\Work\\\\Projects\\\\Alisha\\\\Alisha_hand_gesture\\\\speechtotext\\\\cleaned_audios_zip\\\\20\\\\205\\\\20-205-0042.wav', 'd:\\\\Work\\\\Projects\\\\Alisha\\\\Alisha_hand_gesture\\\\speechtotext\\\\cleaned_audios_zip\\\\20\\\\205\\\\20-205-0043.wav', 'd:\\\\Work\\\\Projects\\\\Alisha\\\\Alisha_hand_gesture\\\\speechtotext\\\\cleaned_audios_zip\\\\20\\\\205\\\\20-205-0044.wav', 'd:\\\\Work\\\\Projects\\\\Alisha\\\\Alisha_hand_gesture\\\\speechtotext\\\\cleaned_audios_zip\\\\20\\\\205\\\\20-205-0045.wav', 'd:\\\\Work\\\\Projects\\\\Alisha\\\\Alisha_hand_gesture\\\\speechtotext\\\\cleaned_audios_zip\\\\20\\\\205\\\\20-205-0046.wav', 'd:\\\\Work\\\\Projects\\\\Alisha\\\\Alisha_hand_gesture\\\\speechtotext\\\\cleaned_audios_zip\\\\20\\\\205\\\\20-205-0047.wav', 'd:\\\\Work\\\\Projects\\\\Alisha\\\\Alisha_hand_gesture\\\\speechtotext\\\\cleaned_audios_zip\\\\20\\\\205\\\\20-205-0048.wav', 'd:\\\\Work\\\\Projects\\\\Alisha\\\\Alisha_hand_gesture\\\\speechtotext\\\\cleaned_audios_zip\\\\20\\\\205\\\\20-205-0049.wav', 'd:\\\\Work\\\\Projects\\\\Alisha\\\\Alisha_hand_gesture\\\\speechtotext\\\\cleaned_audios_zip\\\\20\\\\205\\\\20-205-0050.wav', 'd:\\\\Work\\\\Projects\\\\Alisha\\\\Alisha_hand_gesture\\\\speechtotext\\\\cleaned_audios_zip\\\\20\\\\205\\\\20-205-0051.wav', 'd:\\\\Work\\\\Projects\\\\Alisha\\\\Alisha_hand_gesture\\\\speechtotext\\\\cleaned_audios_zip\\\\20\\\\205\\\\20-205-0052.wav', 'd:\\\\Work\\\\Projects\\\\Alisha\\\\Alisha_hand_gesture\\\\speechtotext\\\\cleaned_audios_zip\\\\20\\\\205\\\\20-205-0053.wav', 'd:\\\\Work\\\\Projects\\\\Alisha\\\\Alisha_hand_gesture\\\\speechtotext\\\\cleaned_audios_zip\\\\20\\\\205\\\\20-205-0054.wav', 'd:\\\\Work\\\\Projects\\\\Alisha\\\\Alisha_hand_gesture\\\\speechtotext\\\\cleaned_audios_zip\\\\20\\\\205\\\\20-205-0055.wav', 'd:\\\\Work\\\\Projects\\\\Alisha\\\\Alisha_hand_gesture\\\\speechtotext\\\\cleaned_audios_zip\\\\20\\\\205\\\\20-205-0056.wav', 'd:\\\\Work\\\\Projects\\\\Alisha\\\\Alisha_hand_gesture\\\\speechtotext\\\\cleaned_audios_zip\\\\20\\\\205\\\\20-205-0057.wav', 'd:\\\\Work\\\\Projects\\\\Alisha\\\\Alisha_hand_gesture\\\\speechtotext\\\\cleaned_audios_zip\\\\20\\\\205\\\\20-205-0058.wav', 'd:\\\\Work\\\\Projects\\\\Alisha\\\\Alisha_hand_gesture\\\\speechtotext\\\\cleaned_audios_zip\\\\20\\\\205\\\\20-205-0059.wav', 'd:\\\\Work\\\\Projects\\\\Alisha\\\\Alisha_hand_gesture\\\\speechtotext\\\\cleaned_audios_zip\\\\20\\\\205\\\\20-205-0060.wav', 'd:\\\\Work\\\\Projects\\\\Alisha\\\\Alisha_hand_gesture\\\\speechtotext\\\\cleaned_audios_zip\\\\20\\\\205\\\\20-205-0061.wav']\n",
    "transcriptions = ['IN SPITE OF UDOLPHO AND THE DRESSMAKER HOWEVER THE PARTY FROM PULTENEY STREET REACHED THE UPPER ROOMS IN VERY GOOD TIME THE THORPES AND JAMES MORLAND WERE THERE ONLY TWO MINUTES BEFORE THEM', 'AND ISABELLA HAVING GONE THROUGH THE USUAL CEREMONIAL OF MEETING HER FRIEND WITH THE MOST SMILING AND AFFECTIONATE HASTE OF ADMIRING THE SET OF HER GOWN AND ENVYING THE CURL OF HER HAIR THEY FOLLOWED THEIR CHAPERONES ARM IN ARM INTO THE BALLROOM', 'AND SUPPLYING THE PLACE OF MANY IDEAS BY A SQUEEZE OF THE HAND OR A SMILE OF AFFECTION THE DANCING BEGAN WITHIN A FEW MINUTES AFTER THEY WERE SEATED AND JAMES WHO HAD BEEN ENGAGED QUITE AS LONG AS HIS SISTER', 'WAS VERY IMPORTUNATE WITH ISABELLA TO STAND UP BUT JOHN WAS GONE INTO THE CARD ROOM TO SPEAK TO A FRIEND AND NOTHING SHE DECLARED', 'I ASSURE YOU SAID SHE I WOULD NOT STAND UP WITHOUT YOUR DEAR SISTER FOR ALL THE WORLD FOR IF I DID WE SHOULD CERTAINLY BE SEPARATED THE WHOLE EVENING CATHERINE ACCEPTED THIS KINDNESS WITH GRATITUDE', 'AND THEY CONTINUED AS THEY WERE FOR THREE MINUTES LONGER WHEN ISABELLA WHO HAD BEEN TALKING TO JAMES ON THE OTHER SIDE OF HER TURNED AGAIN TO HIS SISTER AND WHISPERED MY DEAR CREATURE I AM AFRAID I MUST LEAVE YOU YOUR BROTHER IS SO AMAZINGLY IMPATIENT TO BEGIN', 'I KNOW YOU WILL NOT MIND MY GOING AWAY AND I DARE SAY JOHN WILL BE BACK IN A MOMENT AND THEN YOU MAY EASILY FIND ME OUT CATHERINE THOUGH A LITTLE DISAPPOINTED', \"HAD TOO MUCH GOOD NATURE TO MAKE ANY OPPOSITION AND THE OTHERS RISING UP ISABELLA HAD ONLY TIME TO PRESS HER FRIEND'S HAND AND SAY GOOD BYE MY DEAR LOVE BEFORE THEY HURRIED OFF\", 'THE YOUNGER MISS THORPES BEING ALSO DANCING CATHERINE WAS LEFT TO THE MERCY OF MISSUS THORPE AND MISSUS ALLEN BETWEEN WHOM SHE NOW REMAINED', 'SHE COULD NOT HELP BEING VEXED AT THE NON APPEARANCE OF MISTER THORPE FOR SHE NOT ONLY LONGED TO BE DANCING BUT WAS LIKEWISE AWARE THAT AS THE REAL DIGNITY OF HER SITUATION COULD NOT BE KNOWN', 'SHE WAS SHARING WITH THE SCORES OF OTHER YOUNG LADIES STILL SITTING DOWN ALL THE DISCREDIT OF WANTING A PARTNER TO BE DISGRACED IN THE EYE OF THE WORLD TO WEAR THE APPEARANCE OF INFAMY WHILE HER HEART IS ALL PURITY', 'CATHERINE HAD FORTITUDE TOO SHE SUFFERED BUT NO MURMUR PASSED HER LIPS FROM THIS STATE OF HUMILIATION SHE WAS ROUSED AT THE END OF TEN MINUTES', 'TO A PLEASANTER FEELING BY SEEING NOT MISTER THORPE BUT MISTER TILNEY WITHIN THREE YARDS OF THE PLACE WHERE THEY SAT HE SEEMED TO BE MOVING THAT WAY BUT HE DID NOT SEE HER AND THEREFORE THE SMILE AND THE BLUSH', 'AND WHOM CATHERINE IMMEDIATELY GUESSED TO BE HIS SISTER THUS UNTHINKINGLY THROWING AWAY A FAIR OPPORTUNITY OF CONSIDERING HIM LOST TO HER FOREVER BY BEING MARRIED ALREADY BUT GUIDED ONLY BY WHAT WAS SIMPLE AND PROBABLE', \"HE HAD NOT BEHAVED HE HAD NOT TALKED LIKE THE MARRIED MEN TO WHOM SHE HAD BEEN USED HE HAD NEVER MENTIONED A WIFE AND HE HAD ACKNOWLEDGED A SISTER FROM THESE CIRCUMSTANCES SPRANG THE INSTANT CONCLUSION OF HIS SISTER'S NOW BEING BY HIS SIDE\", \"ON MISSUS ALLEN'S BOSOM CATHERINE SAT ERECT IN THE PERFECT USE OF HER SENSES AND WITH CHEEKS ONLY A LITTLE REDDER THAN USUAL MISTER TILNEY AND HIS COMPANION WHO CONTINUED THOUGH SLOWLY TO APPROACH\", 'WERE IMMEDIATELY PRECEDED BY A LADY AN ACQUAINTANCE OF MISSUS THORPE', \"AND CATHERINE CATCHING MISTER TILNEY'S EYE INSTANTLY RECEIVED FROM HIM THE SMILING TRIBUTE OF RECOGNITION SHE RETURNED IT WITH PLEASURE AND THEN ADVANCING STILL NEARER HE SPOKE BOTH TO HER AND MISSUS ALLEN\", 'BY WHOM HE WAS VERY CIVILLY ACKNOWLEDGED I AM VERY HAPPY TO SEE YOU AGAIN SIR INDEED I WAS AFRAID YOU HAD LEFT BATH HE THANKED HER FOR HER FEARS', 'ON THE VERY MORNING AFTER HIS HAVING HAD THE PLEASURE OF SEEING HER WELL SIR AND I DARE SAY YOU ARE NOT SORRY TO BE BACK AGAIN FOR IT IS JUST THE PLACE FOR YOUNG PEOPLE AND INDEED FOR EVERYBODY ELSE TOO', 'I TELL MISTER ALLEN WHEN HE TALKS OF BEING SICK OF IT THAT I AM SURE HE SHOULD NOT COMPLAIN FOR IT IS SO VERY AGREEABLE A PLACE THAT IT IS MUCH BETTER TO BE HERE THAN AT HOME AT THIS DULL TIME OF YEAR', 'I TELL HIM HE IS QUITE IN LUCK TO BE SENT HERE FOR HIS HEALTH AND I HOPE MADAM THAT MISTER ALLEN WILL BE OBLIGED TO LIKE THE PLACE FROM FINDING IT OF SERVICE TO HIM THANK YOU SIR I HAVE NO DOUBT THAT HE WILL', 'A NEIGHBOUR OF OURS DOCTOR SKINNER WAS HERE FOR HIS HEALTH LAST WINTER AND CAME AWAY QUITE STOUT', 'YES SIR AND DOCTOR SKINNER AND HIS FAMILY WERE HERE THREE MONTHS SO I TELL MISTER ALLEN HE MUST NOT BE IN A HURRY TO GET AWAY', 'AS THEY HAD AGREED TO JOIN THEIR PARTY THIS WAS ACCORDINGLY DONE MISTER TILNEY STILL CONTINUING STANDING BEFORE THEM AND AFTER A FEW MINUTES CONSIDERATION HE ASKED CATHERINE TO DANCE WITH HIM THIS COMPLIMENT DELIGHTFUL AS IT WAS', 'PRODUCED SEVERE MORTIFICATION TO THE LADY AND IN GIVING HER DENIAL SHE EXPRESSED HER SORROW ON THE OCCASION SO VERY MUCH AS IF SHE REALLY FELT IT THAT HAD THORPE WHO JOINED HER JUST AFTERWARDS BEEN HALF A MINUTE EARLIER', 'HE MIGHT HAVE THOUGHT HER SUFFERINGS RATHER TOO ACUTE THE VERY EASY MANNER IN WHICH HE THEN TOLD HER THAT HE HAD KEPT HER WAITING DID NOT BY ANY MEANS RECONCILE HER MORE TO HER LOT NOR DID THE PARTICULARS WHICH HE ENTERED INTO WHILE THEY WERE STANDING UP', 'OF THE HORSES AND DOGS OF THE FRIEND WHOM HE HAD JUST LEFT AND OF A PROPOSED EXCHANGE OF TERRIERS BETWEEN THEM INTEREST HER SO MUCH AS TO PREVENT HER LOOKING VERY OFTEN TOWARDS THAT PART OF THE ROOM WHERE SHE HAD LEFT MISTER TILNEY', 'OF HER DEAR ISABELLA TO WHOM SHE PARTICULARLY LONGED TO POINT OUT THAT GENTLEMAN SHE COULD SEE NOTHING THEY WERE IN DIFFERENT SETS SHE WAS SEPARATED FROM ALL HER PARTY AND AWAY FROM ALL HER ACQUAINTANCE ONE MORTIFICATION SUCCEEDED ANOTHER', 'AND FROM THE WHOLE SHE DEDUCED THIS USEFUL LESSON THAT TO GO PREVIOUSLY ENGAGED TO A BALL DOES NOT NECESSARILY INCREASE EITHER THE DIGNITY OR ENJOYMENT OF A YOUNG LADY', 'AND TURNING ROUND PERCEIVED MISSUS HUGHES DIRECTLY BEHIND HER ATTENDED BY MISS TILNEY AND A GENTLEMAN I BEG YOUR PARDON MISS MORLAND SAID SHE FOR THIS LIBERTY BUT I CANNOT ANYHOW GET TO MISS THORPE', 'MISSUS HUGHES COULD NOT HAVE APPLIED TO ANY CREATURE IN THE ROOM MORE HAPPY TO OBLIGE HER THAN CATHERINE', 'MISS TILNEY EXPRESSING A PROPER SENSE OF SUCH GOODNESS MISS MORLAND WITH THE REAL DELICACY OF A GENEROUS MIND MAKING LIGHT OF THE OBLIGATION', \"MISS TILNEY HAD A GOOD FIGURE A PRETTY FACE AND A VERY AGREEABLE COUNTENANCE AND HER AIR THOUGH IT HAD NOT ALL THE DECIDED PRETENSION THE RESOLUTE STYLISHNESS OF MISS THORPE'S HAD MORE REAL ELEGANCE\", 'AND WITHOUT EXAGGERATED FEELINGS OF ECSTATIC DELIGHT OR INCONCEIVABLE VEXATION ON EVERY LITTLE TRIFLING OCCURRENCE CATHERINE INTERESTED AT ONCE BY HER APPEARANCE AND HER RELATIONSHIP TO MISTER TILNEY', 'PREVENTED THEIR DOING MORE THAN GOING THROUGH THE FIRST RUDIMENTS OF AN ACQUAINTANCE BY INFORMING THEMSELVES HOW WELL THE OTHER LIKED BATH HOW MUCH SHE ADMIRED ITS BUILDINGS AND SURROUNDING COUNTRY WHETHER SHE DREW OR PLAYED OR SANG', 'AND WHETHER SHE WAS FOND OF RIDING ON HORSEBACK THE TWO DANCES WERE SCARCELY CONCLUDED BEFORE CATHERINE FOUND HER ARM GENTLY SEIZED BY HER FAITHFUL ISABELLA WHO IN GREAT SPIRITS EXCLAIMED AT LAST I HAVE GOT YOU', 'MY DEAREST CREATURE I HAVE BEEN LOOKING FOR YOU THIS HOUR WHAT COULD INDUCE YOU TO COME INTO THIS SET', 'I HAVE BEEN QUITE WRETCHED WITHOUT YOU MY DEAR ISABELLA HOW WAS IT POSSIBLE FOR ME TO GET AT YOU I COULD NOT EVEN SEE WHERE YOU WERE SO I TOLD YOUR BROTHER ALL THE TIME BUT HE WOULD NOT BELIEVE ME', 'BUT ALL IN VAIN HE WOULD NOT STIR AN INCH WAS NOT IT SO MISTER MORLAND BUT YOU MEN ARE ALL SO IMMODERATELY LAZY', \"WHISPERED CATHERINE DETACHING HER FRIEND FROM JAMES IT IS MISTER TILNEY'S SISTER\", 'LET ME LOOK AT HER THIS MOMENT WHAT A DELIGHTFUL GIRL I NEVER SAW ANYTHING HALF SO BEAUTIFUL BUT WHERE IS HER ALL CONQUERING BROTHER IS HE IN THE ROOM', 'I DIE TO SEE HIM MISTER MORLAND YOU ARE NOT TO LISTEN WE ARE NOT TALKING ABOUT YOU BUT WHAT IS ALL THIS WHISPERING ABOUT WHAT IS GOING ON THERE NOW I KNEW HOW IT WOULD BE', 'YOU MEN HAVE SUCH RESTLESS CURIOSITY TALK OF THE CURIOSITY OF WOMEN INDEED TIS NOTHING BUT BE SATISFIED FOR YOU ARE NOT TO KNOW ANYTHING AT ALL OF THE MATTER AND IS THAT LIKELY TO SATISFY ME DO YOU THINK', 'WELL I DECLARE I NEVER KNEW ANYTHING LIKE YOU WHAT CAN IT SIGNIFY TO YOU WHAT WE ARE TALKING OF PERHAPS WE ARE TALKING ABOUT YOU THEREFORE I WOULD ADVISE YOU NOT TO LISTEN OR YOU MAY HAPPEN TO HEAR SOMETHING NOT VERY AGREEABLE', 'IN THIS COMMONPLACE CHATTER WHICH LASTED SOME TIME THE ORIGINAL SUBJECT SEEMED ENTIRELY FORGOTTEN', 'BUT SHE RESISTED I TELL YOU MISTER MORLAND SHE CRIED I WOULD NOT DO SUCH A THING FOR ALL THE WORLD', 'UPON MY HONOUR SAID JAMES IN THESE PUBLIC ASSEMBLIES IT IS AS OFTEN DONE AS NOT NONSENSE HOW CAN YOU SAY SO BUT WHEN YOU MEN HAVE A POINT TO CARRY YOU NEVER STICK AT ANYTHING', 'MY SWEET CATHERINE DO SUPPORT ME PERSUADE YOUR BROTHER HOW IMPOSSIBLE IT IS TELL HIM THAT IT WOULD QUITE SHOCK YOU TO SEE ME DO SUCH A THING NOW WOULD NOT IT NO NOT AT ALL', 'BUT IF YOU THINK IT WRONG YOU HAD MUCH BETTER CHANGE THERE CRIED ISABELLA YOU HEAR WHAT YOUR SISTER SAYS AND YET YOU WILL NOT MIND HER', \"COME ALONG MY DEAREST CATHERINE FOR HEAVEN'S SAKE AND STAND BY ME AND OFF THEY WENT TO REGAIN THEIR FORMER PLACE JOHN THORPE IN THE MEANWHILE HAD WALKED AWAY AND CATHERINE EVER WILLING TO GIVE MISTER TILNEY AN OPPORTUNITY\", 'MADE HER WAY TO MISSUS ALLEN AND MISSUS THORPE AS FAST AS SHE COULD', 'VERY AGREEABLE MADAM I AM GLAD OF IT JOHN HAS CHARMING SPIRITS HAS NOT HE DID YOU MEET MISTER TILNEY MY DEAR SAID MISSUS ALLEN NO WHERE IS HE', 'HE WAS WITH US JUST NOW AND SAID HE WAS SO TIRED OF LOUNGING ABOUT THAT HE WAS RESOLVED TO GO AND DANCE SO I THOUGHT PERHAPS HE WOULD ASK YOU IF HE MET WITH YOU', 'BUT SHE HAD NOT LOOKED ROUND LONG BEFORE SHE SAW HIM LEADING A YOUNG LADY TO THE DANCE AH HE HAS GOT A PARTNER I WISH HE HAD ASKED YOU SAID MISSUS ALLEN AND AFTER A SHORT SILENCE SHE ADDED', 'HE IS A VERY AGREEABLE YOUNG MAN INDEED HE IS MISSUS ALLEN SAID MISSUS THORPE SMILING COMPLACENTLY I MUST SAY IT THOUGH I AM HIS MOTHER THAT THERE IS NOT A MORE AGREEABLE YOUNG MAN IN THE WORLD', \"THIS INAPPLICABLE ANSWER MIGHT HAVE BEEN TOO MUCH FOR THE COMPREHENSION OF MANY BUT IT DID NOT PUZZLE MISSUS ALLEN FOR AFTER ONLY A MOMENT'S CONSIDERATION SHE SAID IN A WHISPER TO CATHERINE\", 'I DARE SAY SHE THOUGHT I WAS SPEAKING OF HER SON CATHERINE WAS DISAPPOINTED AND VEXED SHE SEEMED TO HAVE MISSED BY SO LITTLE THE VERY OBJECT SHE HAD HAD IN VIEW', 'AND THIS PERSUASION DID NOT INCLINE HER TO A VERY GRACIOUS REPLY WHEN JOHN THORPE CAME UP TO HER SOON AFTERWARDS AND SAID WELL MISS MORLAND I SUPPOSE YOU AND I ARE TO STAND UP AND JIG IT TOGETHER AGAIN OH NO I AM MUCH OBLIGED TO YOU', 'OUR TWO DANCES ARE OVER AND BESIDES I AM TIRED AND DO NOT MEAN TO DANCE ANY MORE DO NOT YOU THEN LET US WALK ABOUT AND QUIZ PEOPLE COME ALONG WITH ME AND I WILL SHOW YOU THE FOUR GREATEST QUIZZERS IN THE ROOM', 'MY TWO YOUNGER SISTERS AND THEIR PARTNERS I HAVE BEEN LAUGHING AT THEM THIS HALF HOUR AGAIN CATHERINE EXCUSED HERSELF AND AT LAST HE WALKED OFF TO QUIZ HIS SISTERS BY HIMSELF THE REST OF THE EVENING SHE FOUND VERY DULL', 'MISTER TILNEY WAS DRAWN AWAY FROM THEIR PARTY AT TEA TO ATTEND THAT OF HIS PARTNER MISS TILNEY THOUGH BELONGING TO IT DID NOT SIT NEAR HER AND JAMES AND ISABELLA WERE SO MUCH ENGAGED IN CONVERSING TOGETHER']"
   ]
  },
  {
   "cell_type": "code",
   "execution_count": 3,
   "metadata": {},
   "outputs": [
    {
     "name": "stdout",
     "output_type": "stream",
     "text": [
      "{' ': 0, \"'\": 1, 'A': 2, 'B': 3, 'C': 4, 'D': 5, 'E': 6, 'F': 7, 'G': 8, 'H': 9, 'I': 10, 'J': 11, 'K': 12, 'L': 13, 'M': 14, 'N': 15, 'O': 16, 'P': 17, 'Q': 18, 'R': 19, 'S': 20, 'T': 21, 'U': 22, 'V': 23, 'W': 24, 'X': 25, 'Y': 26, 'Z': 27}\n"
     ]
    }
   ],
   "source": [
    "# Create a character-level vocabulary\n",
    "vocab = set(''.join(transcriptions))\n",
    "vocab = {char: idx for idx, char in enumerate(sorted(vocab))}\n",
    "idx_to_char = {idx: char for char, idx in vocab.items()}\n",
    "print(vocab)\n",
    "\n",
    "# Function to convert labels to text\n",
    "def labels_to_text(labels):\n",
    "    return ''.join([idx_to_char[idx] for idx in labels])\n",
    "\n",
    "# Function to convert transcription to numerical labels\n",
    "def text_to_labels(text):\n",
    "    return [vocab[char] for char in text]"
   ]
  },
  {
   "cell_type": "code",
   "execution_count": 4,
   "metadata": {},
   "outputs": [],
   "source": [
    "# SpeechDataset class definition\n",
    "class SpeechDataset(Dataset):\n",
    "    def __init__(self, audio_files, transcriptions, sample_rate=16000):\n",
    "        self.audio_files = audio_files\n",
    "        self.transcriptions = transcriptions\n",
    "        self.sample_rate = sample_rate\n",
    "        self.resample = Resample(orig_freq=sample_rate, new_freq=16000)\n",
    "        self.melspec = MelSpectrogram(sample_rate=16000, n_mels=128)\n",
    "    \n",
    "    def __len__(self):\n",
    "        return len(self.audio_files)\n",
    "    \n",
    "    def __getitem__(self, idx):\n",
    "        try:\n",
    "            waveform, sample_rate = torchaudio.load(self.audio_files[idx])\n",
    "        except Exception as e:\n",
    "            print(f\"Error loading file {self.audio_files[idx]}: {e}\")\n",
    "            return None, None  # Return None for both to handle it later\n",
    "        \n",
    "        waveform = self.resample(waveform)\n",
    "        mel_spec = self.melspec(waveform)\n",
    "        transcription = self.transcriptions[idx]\n",
    "        return mel_spec.squeeze(0).transpose(0, 1), transcription  # Transpose to [seq_len, feature_dim]"
   ]
  },
  {
   "cell_type": "code",
   "execution_count": 7,
   "metadata": {},
   "outputs": [],
   "source": [
    "# Function to pad sequences\n",
    "def pad_sequence(batch):\n",
    "    batch = [item for item in batch]  # Ensure [seq_len, feature_dim]\n",
    "    batch = torch.nn.utils.rnn.pad_sequence(batch, batch_first=True)\n",
    "    return batch"
   ]
  },
  {
   "cell_type": "code",
   "execution_count": 8,
   "metadata": {},
   "outputs": [],
   "source": [
    "# Update the collate function to handle None entries\n",
    "def collate_fn(batch):\n",
    "    batch = [item for item in batch if item[0] is not None]  # Filter out None entries\n",
    "    if len(batch) == 0:  # Handle the case where all items are None\n",
    "        return None, None, None, None\n",
    "    mel_specs = [item[0] for item in batch]\n",
    "    transcriptions = [item[1] for item in batch]\n",
    "    mel_specs_padded = pad_sequence(mel_specs)\n",
    "    labels = [torch.tensor(text_to_labels(t)) for t in transcriptions]\n",
    "    label_lengths = torch.tensor([len(label) for label in labels])\n",
    "    labels_padded = torch.nn.utils.rnn.pad_sequence(labels, batch_first=True)\n",
    "    input_lengths = torch.tensor([mel_spec.size(0) for mel_spec in mel_specs_padded])\n",
    "    return mel_specs_padded, labels_padded, input_lengths, label_lengths"
   ]
  },
  {
   "cell_type": "code",
   "execution_count": 9,
   "metadata": {},
   "outputs": [
    {
     "name": "stderr",
     "output_type": "stream",
     "text": [
      "d:\\Work\\Projects\\Alisha\\Alisha_hand_gesture\\speechtotext\\.venv\\lib\\site-packages\\torchaudio\\functional\\functional.py:584: UserWarning: At least one mel filterbank has all zero values. The value for `n_mels` (128) may be set too high. Or, the value for `n_freqs` (201) may be set too low.\n",
      "  warnings.warn(\n"
     ]
    }
   ],
   "source": [
    "# Create dataset and dataloader with the expanded dataset\n",
    "dataset = SpeechDataset(audio_files, transcriptions)\n",
    "dataloader = DataLoader(dataset, batch_size=2, shuffle=True, collate_fn=collate_fn)"
   ]
  },
  {
   "cell_type": "code",
   "execution_count": 10,
   "metadata": {},
   "outputs": [],
   "source": [
    "# Define a simple model architecture\n",
    "class SimpleSpeechModel(nn.Module):\n",
    "    def __init__(self, input_dim, hidden_dim, output_dim):\n",
    "        super(SimpleSpeechModel, self).__init__()\n",
    "        self.lstm = nn.LSTM(input_dim, hidden_dim, batch_first=True, bidirectional=True)\n",
    "        self.fc = nn.Linear(hidden_dim * 2, output_dim)  # Bidirectional LSTM\n",
    "\n",
    "    def forward(self, x):\n",
    "        x, _ = self.lstm(x)\n",
    "        x = self.fc(x)\n",
    "        return x"
   ]
  },
  {
   "cell_type": "code",
   "execution_count": 11,
   "metadata": {},
   "outputs": [],
   "source": [
    "# Initialize and train the model\n",
    "input_dim = 128  # Number of mel bands\n",
    "hidden_dim = 256\n",
    "output_dim = len(vocab) + 1  # Output dimension based on the size of the vocabulary + 1 for the blank token\n",
    "model = SimpleSpeechModel(input_dim, hidden_dim, output_dim)"
   ]
  },
  {
   "cell_type": "code",
   "execution_count": 12,
   "metadata": {},
   "outputs": [],
   "source": [
    "def train_model(model, dataloader, num_epochs=10, learning_rate=0.001):\n",
    "    criterion = nn.CTCLoss(blank=output_dim - 1, zero_infinity=True)\n",
    "    optimizer = optim.Adam(model.parameters(), lr=learning_rate)\n",
    "    \n",
    "    for epoch in range(num_epochs):\n",
    "        for batch in dataloader:\n",
    "            if batch[0] is None:  # Skip if batch is None\n",
    "                continue\n",
    "            \n",
    "            mel_specs, labels, input_lengths, label_lengths = batch\n",
    "            \n",
    "            if mel_specs.dim() != 3:\n",
    "                print(f\"Unexpected dimensions: {mel_specs.shape}\")\n",
    "                continue  # Skip this batch if dimensions are not as expected\n",
    "            \n",
    "            outputs = model(mel_specs)\n",
    "            outputs = outputs.log_softmax(2)\n",
    "            outputs = outputs.permute(1, 0, 2)  # (T, N, C) for CTCLoss\n",
    "\n",
    "            loss = criterion(outputs, labels, input_lengths, label_lengths)\n",
    "            \n",
    "            optimizer.zero_grad()\n",
    "            loss.backward()\n",
    "            optimizer.step()\n",
    "        \n",
    "        print(f\"Epoch [{epoch+1}/{num_epochs}], Loss: {loss.item():.4f}\")"
   ]
  },
  {
   "cell_type": "code",
   "execution_count": 13,
   "metadata": {},
   "outputs": [
    {
     "name": "stdout",
     "output_type": "stream",
     "text": [
      "Epoch [1/10], Loss: 3.2076\n",
      "Epoch [2/10], Loss: 3.0462\n",
      "Epoch [3/10], Loss: 2.9780\n",
      "Epoch [4/10], Loss: 2.9174\n",
      "Epoch [5/10], Loss: 2.8891\n",
      "Epoch [6/10], Loss: 2.9094\n",
      "Epoch [7/10], Loss: 2.8761\n",
      "Epoch [8/10], Loss: 2.9563\n",
      "Epoch [9/10], Loss: 2.8890\n",
      "Epoch [10/10], Loss: 2.8320\n"
     ]
    }
   ],
   "source": [
    "# Train the model with the expanded dataset\n",
    "train_model(model, dataloader)"
   ]
  }
 ],
 "metadata": {
  "kernelspec": {
   "display_name": ".venv",
   "language": "python",
   "name": "python3"
  },
  "language_info": {
   "codemirror_mode": {
    "name": "ipython",
    "version": 3
   },
   "file_extension": ".py",
   "mimetype": "text/x-python",
   "name": "python",
   "nbconvert_exporter": "python",
   "pygments_lexer": "ipython3",
   "version": "3.10.1"
  }
 },
 "nbformat": 4,
 "nbformat_minor": 2
}
