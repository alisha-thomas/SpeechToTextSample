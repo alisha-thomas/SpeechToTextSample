{
 "cells": [
  {
   "cell_type": "code",
   "execution_count": 1,
   "metadata": {},
   "outputs": [],
   "source": [
    "import os"
   ]
  },
  {
   "cell_type": "code",
   "execution_count": 2,
   "metadata": {},
   "outputs": [],
   "source": [
    "def gather_audio_files_and_transcripts(base_path):\n",
    "    audio_files = []\n",
    "    transcriptions = []\n",
    "    \n",
    "    for root, dirs, files in os.walk(base_path):\n",
    "        for file in files:\n",
    "            if file.endswith(\".wav\"):\n",
    "                wav_file_path = os.path.join(root, file)\n",
    "                audio_files.append(wav_file_path)\n",
    "                \n",
    "                # Extracting the path for the corresponding transcription file\n",
    "                transcript_file_path = os.path.join(root, os.path.basename(file).split('.')[0] + '.trans.txt')\n",
    "                \n",
    "                # Reading the transcription file\n",
    "                if os.path.exists(transcript_file_path):\n",
    "                    with open(transcript_file_path, 'r') as f:\n",
    "                        for line in f:\n",
    "                            parts = line.strip().split(' ', 1)\n",
    "                            if parts[0] == os.path.basename(file):\n",
    "                                transcriptions.append(parts[1])\n",
    "                                break\n",
    "                else:\n",
    "                    # If transcription file is not in the same folder, look for it one level up\n",
    "                    transcript_file_path = os.path.join(os.path.dirname(root), os.path.basename(file).split('.')[0] + '.trans.txt')\n",
    "                    if os.path.exists(transcript_file_path):\n",
    "                        with open(transcript_file_path, 'r') as f:\n",
    "                            for line in f:\n",
    "                                parts = line.strip().split(' ', 1)\n",
    "                                if parts[0] == os.path.basename(file):\n",
    "                                    transcriptions.append(parts[1])\n",
    "                                    break\n",
    "\n",
    "    return audio_files, transcriptions"
   ]
  },
  {
   "cell_type": "code",
   "execution_count": 3,
   "metadata": {},
   "outputs": [],
   "source": [
    "def save_lists_to_files(audio_files, transcriptions, audio_file_path='audio_files.txt', transcript_file_path='transcriptions.txt'):\n",
    "    with open(audio_file_path, 'w') as af:\n",
    "        for audio in audio_files:\n",
    "            af.write(audio + '\\n')\n",
    "\n",
    "    with open(transcript_file_path, 'w') as tf:\n",
    "        for transcript in transcriptions:\n",
    "            tf.write(transcript + '\\n')"
   ]
  },
  {
   "cell_type": "code",
   "execution_count": 4,
   "metadata": {},
   "outputs": [],
   "source": [
    "def load_lists_from_files(audio_file_path='audio_files.txt', transcript_file_path='transcriptions.txt'):\n",
    "    with open(audio_file_path, 'r') as af:\n",
    "        audio_files = [line.strip() for line in af]\n",
    "\n",
    "    with open(transcript_file_path, 'r') as tf:\n",
    "        transcriptions = [line.strip() for line in tf]\n",
    "\n",
    "    return audio_files, transcriptions"
   ]
  },
  {
   "cell_type": "code",
   "execution_count": 9,
   "metadata": {},
   "outputs": [],
   "source": [
    "# Set the base path to your 'cleaned_audios_zip' directory\n",
    "base_path = os.path.join(os.getcwd(), 'cleaned_audios_zip')\n",
    "\n",
    "# Gather the audio files and their transcriptions\n",
    "audio_files, transcriptions = gather_audio_files_and_transcripts(base_path)"
   ]
  },
  {
   "cell_type": "code",
   "execution_count": 6,
   "metadata": {},
   "outputs": [],
   "source": [
    "# Save the lists to text files\n",
    "save_lists_to_files(audio_files, transcriptions)"
   ]
  },
  {
   "cell_type": "code",
   "execution_count": 7,
   "metadata": {},
   "outputs": [],
   "source": [
    "# Load the lists back from text files\n",
    "loaded_audio_files, loaded_transcriptions = load_lists_from_files()"
   ]
  },
  {
   "cell_type": "code",
   "execution_count": 8,
   "metadata": {},
   "outputs": [
    {
     "name": "stdout",
     "output_type": "stream",
     "text": [
      "['d:\\\\Work\\\\Projects\\\\Alisha\\\\Alisha_hand_gesture\\\\speechtotext\\\\cleaned_audios_zip\\\\20\\\\205\\\\20-205-0000.wav', 'd:\\\\Work\\\\Projects\\\\Alisha\\\\Alisha_hand_gesture\\\\speechtotext\\\\cleaned_audios_zip\\\\20\\\\205\\\\20-205-0001.wav', 'd:\\\\Work\\\\Projects\\\\Alisha\\\\Alisha_hand_gesture\\\\speechtotext\\\\cleaned_audios_zip\\\\20\\\\205\\\\20-205-0002.wav', 'd:\\\\Work\\\\Projects\\\\Alisha\\\\Alisha_hand_gesture\\\\speechtotext\\\\cleaned_audios_zip\\\\20\\\\205\\\\20-205-0003.wav', 'd:\\\\Work\\\\Projects\\\\Alisha\\\\Alisha_hand_gesture\\\\speechtotext\\\\cleaned_audios_zip\\\\20\\\\205\\\\20-205-0004.wav']\n",
      "[]\n"
     ]
    }
   ],
   "source": [
    "# Verify the lists are loaded correctly\n",
    "print(loaded_audio_files[:5])  # Print first 5 audio file paths\n",
    "print(loaded_transcriptions[:5])  # Print first 5 transcriptions"
   ]
  }
 ],
 "metadata": {
  "kernelspec": {
   "display_name": ".venv",
   "language": "python",
   "name": "python3"
  },
  "language_info": {
   "codemirror_mode": {
    "name": "ipython",
    "version": 3
   },
   "file_extension": ".py",
   "mimetype": "text/x-python",
   "name": "python",
   "nbconvert_exporter": "python",
   "pygments_lexer": "ipython3",
   "version": "3.10.1"
  }
 },
 "nbformat": 4,
 "nbformat_minor": 2
}
